{
 "cells": [
  {
   "cell_type": "markdown",
   "metadata": {},
   "source": [
    "# U.S. Medical Insurance Costs\n",
    "\n",
    "My goal with this project is to explore the relationship between age and insurance costs."
   ]
  },
  {
   "cell_type": "code",
   "execution_count": 8,
   "metadata": {},
   "outputs": [],
   "source": [
    "import csv\n"
   ]
  },
  {
   "cell_type": "code",
   "execution_count": 9,
   "metadata": {},
   "outputs": [],
   "source": [
    "#First I create a dictionary with keys for each age group and values for insurance costs of individuals in each age group.\n",
    "# The age groups are, in descending order, 50 to 65, 40 to 50, 25 to 40 and under 25.\n",
    "\n",
    "Age_keys = [\"50 to 65\", \"40 to 50\", \"25 to 40\", \"Under 25\"]\n",
    "\n",
    "Age_Costs = dict.fromkeys(Age_keys)\n",
    "\n",
    "Age_4 = []\n",
    "Age_3 = []\n",
    "Age_2 = []\n",
    "Age_1 = []\n",
    "\n",
    "with open(\"insurance.csv\") as insurance_dict:\n",
    "    ins_dict = csv.DictReader(insurance_dict)\n",
    "    for row in ins_dict:\n",
    "        if float(row[\"age\"]) > 50 and float(row[\"age\"]) <= 65:\n",
    "            Age_4.append(float(row[\"charges\"]))\n",
    "        if float(row[\"age\"]) > 40 and float(row[\"age\"]) <= 50:\n",
    "            Age_3.append(float(row[\"charges\"]))\n",
    "        if float(row[\"age\"]) > 25 and float(row[\"age\"]) <= 40:\n",
    "            Age_2.append(float(row[\"charges\"]))\n",
    "        if float(row[\"age\"]) <= 25:\n",
    "            Age_1.append(float(row[\"charges\"]))\n",
    "\n",
    "Age_Costs[\"50 to 65\"] = Age_4\n",
    "Age_Costs[\"40 to 50\"] = Age_3\n",
    "Age_Costs[\"25 to 40\"] = Age_2\n",
    "Age_Costs[\"Under 25\"] = Age_1\n",
    "\n"
   ]
  },
  {
   "cell_type": "code",
   "execution_count": 10,
   "metadata": {
    "scrolled": true
   },
   "outputs": [
    {
     "name": "stdout",
     "output_type": "stream",
     "text": [
      "[28923.13692, 27808.7251, 11090.7178, 10797.3362, 10602.385, 13228.84695, 14001.1338, 14451.83515, 12268.63225, 13770.0979]\n",
      "[8240.5896, 6272.4772, 23568.272, 8606.2174, 7726.854, 6571.02435, 7935.29115, 11033.6617, 21098.55405, 8026.6666]\n",
      "[4449.462, 21984.47061, 3866.8552, 3756.6216, 7281.5056, 6406.4107, 39611.7577, 36837.467, 4149.736, 37701.8768]\n",
      "[16884.924, 1725.5523, 2721.3208, 1826.843, 1837.237, 2395.17155, 1137.011, 2775.19215, 35585.576, 2198.18985]\n",
      "356\n",
      "281\n",
      "395\n",
      "306\n"
     ]
    }
   ],
   "source": [
    "#I print a few values from each dictionary key to make sure they took new values properly. Everything looks good.\n",
    "\n",
    "print(Age_Costs[\"50 to 65\"][0:10])\n",
    "print(Age_Costs[\"40 to 50\"][0:10])\n",
    "print(Age_Costs[\"25 to 40\"][0:10])\n",
    "print(Age_Costs[\"Under 25\"][0:10])\n",
    "\n",
    "# I also check the length of each list to determine how many individuals are in each group.\n",
    "\n",
    "print(len(Age_Costs[\"50 to 65\"]))\n",
    "print(len(Age_Costs[\"40 to 50\"]))\n",
    "print(len(Age_Costs[\"25 to 40\"]))\n",
    "print(len(Age_Costs[\"Under 25\"]))\n",
    "\n"
   ]
  },
  {
   "cell_type": "code",
   "execution_count": 11,
   "metadata": {},
   "outputs": [
    {
     "name": "stdout",
     "output_type": "stream",
     "text": [
      "The difference between the average insurance cost paid by individuals under 25 and those aged 50 to 65 is $8997.97.\n"
     ]
    }
   ],
   "source": [
    "# I create new functions to calculate the average insurance cost for each group; which group has the highest/lowest costs; and the differences between groups.\n",
    "\n",
    "# These functions use lists rather than the dictionary.\n",
    "\n",
    "# Average cost function\n",
    "def avg_cost_func(lst):\n",
    "    avg_cost_calc = 0\n",
    "    for item in lst:\n",
    "        avg_cost_calc += item\n",
    "        avg_cost = avg_cost_calc / len(lst)\n",
    "        avg_rounded = round(avg_cost, 2)\n",
    "    return avg_rounded\n",
    "\n",
    "Age_4_avg_cost = avg_cost_func(Age_4)\n",
    "Age_3_avg_cost = avg_cost_func(Age_3)\n",
    "Age_2_avg_cost = avg_cost_func(Age_2)\n",
    "Age_1_avg_cost = avg_cost_func(Age_1)\n",
    "\n",
    "# Sorting the average costs by age group from least to most expensive.\n",
    "\n",
    "all_avg_costs = [Age_4_avg_cost, Age_3_avg_cost, Age_2_avg_cost, Age_1_avg_cost]\n",
    "\n",
    "def ordering(lst):\n",
    "    sorted_lst = sorted(lst)\n",
    "    return sorted_lst\n",
    "\n",
    "ordered = ordering(all_avg_costs)\n",
    "\n",
    "# Determine the highest and lowest costs, and print difference between them\n",
    "\n",
    "def hi_cost(lst):\n",
    "    hi_cost = 0\n",
    "    for item in lst:\n",
    "        if float(item) > hi_cost:\n",
    "            hi_cost = item\n",
    "    return hi_cost\n",
    "\n",
    "def lo_cost(lst):\n",
    "    lo_cost = float(\"inf\")\n",
    "    for item in lst:\n",
    "        if float(item) < lo_cost:\n",
    "            lo_cost = item\n",
    "    return lo_cost\n",
    "\n",
    "hi = hi_cost(ordered)\n",
    "lo = lo_cost(ordered)\n",
    "\n",
    "def diff_costs(num1, num2):\n",
    "    diff_num = round(abs(num1-num2), 2)\n",
    "    print (\"The difference between the average insurance cost paid by individuals under 25 and those aged 50 to 65 is $\" + str(diff_num) + \".\")\n",
    "\n",
    "diff_costs(hi, lo)\n",
    "\n"
   ]
  },
  {
   "cell_type": "code",
   "execution_count": 16,
   "metadata": {},
   "outputs": [
    {
     "name": "stdout",
     "output_type": "stream",
     "text": [
      "The average insurance cost for individuals aged 50 to 65 is $18084.99\n",
      "The average insurance cost for individuals aged 40 to 50 is $14782.04\n",
      "The average insurance cost for individuals aged 25 to 40 is $11096.68\n",
      "The average insurance cost for individuals aged Under 25 is $9087.02\n"
     ]
    }
   ],
   "source": [
    "# My attempt using dictionary. I can't figure out how to get the function to return info for all four keys.\n",
    "\n",
    "def dict_avg_cost(dictionary):\n",
    "    for key, value in dictionary.items():\n",
    "        avg = round(sum(value) / len(value), 2)\n",
    "        print(\"The average insurance cost for individuals aged \" + key + \" is $\" + str(avg))\n",
    "    \n",
    "dict_avg_cost(Age_Costs)"
   ]
  },
  {
   "cell_type": "code",
   "execution_count": 17,
   "metadata": {},
   "outputs": [
    {
     "name": "stdout",
     "output_type": "stream",
     "text": [
      "The average insurance cost for individuals aged 50 to 65 is $18084.99\n",
      "The average insurance cost for individuals aged 40 to 50 is $14782.04\n",
      "The average insurance cost for individuals aged 25 to 40 is $11096.68\n",
      "The average insurance cost for individuals aged under 25 is $9087.02\n"
     ]
    }
   ],
   "source": [
    "# Using lists to develop a function that prints out a statement at the end.\n",
    "\n",
    "def statement_avg_cost(lst, name):\n",
    "    avg = round(sum(lst) / len(lst), 2)\n",
    "    return print(\"The average insurance cost for individuals aged \" + name + \" is $\" + str(avg))\n",
    "\n",
    "statement_avg_cost(Age_4, \"50 to 65\")\n",
    "statement_avg_cost(Age_3, \"40 to 50\")\n",
    "statement_avg_cost(Age_2, \"25 to 40\")\n",
    "statement_avg_cost(Age_1, \"under 25\")\n"
   ]
  },
  {
   "cell_type": "code",
   "execution_count": null,
   "metadata": {},
   "outputs": [],
   "source": []
  },
  {
   "cell_type": "code",
   "execution_count": null,
   "metadata": {},
   "outputs": [],
   "source": []
  },
  {
   "cell_type": "code",
   "execution_count": null,
   "metadata": {},
   "outputs": [],
   "source": []
  }
 ],
 "metadata": {
  "kernelspec": {
   "display_name": "Python 3 (ipykernel)",
   "language": "python",
   "name": "python3"
  },
  "language_info": {
   "codemirror_mode": {
    "name": "ipython",
    "version": 3
   },
   "file_extension": ".py",
   "mimetype": "text/x-python",
   "name": "python",
   "nbconvert_exporter": "python",
   "pygments_lexer": "ipython3",
   "version": "3.9.7"
  }
 },
 "nbformat": 4,
 "nbformat_minor": 4
}
